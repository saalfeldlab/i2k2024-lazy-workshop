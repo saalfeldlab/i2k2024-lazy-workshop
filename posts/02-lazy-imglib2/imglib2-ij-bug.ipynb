{
 "cells": [
  {
   "cell_type": "code",
   "execution_count": 2,
   "id": "6b5707ed",
   "metadata": {},
   "outputs": [],
   "source": [
    "%mavenRepo scijava.public https://maven.scijava.org/content/groups/public\n",
    "%maven net.imglib2:imglib2-ij:2.0.3"
   ]
  },
  {
   "cell_type": "code",
   "execution_count": 3,
   "id": "dd875dfa",
   "metadata": {},
   "outputs": [],
   "source": [
    "import ij.*;\n",
    "import io.github.spencerpark.jupyter.kernel.display.common.*;\n",
    "import io.github.spencerpark.jupyter.kernel.display.mime.*;\n",
    "import net.imglib2.*;\n",
    "import net.imglib2.img.imageplus.*;\n",
    "import net.imglib2.img.display.imagej.*;\n",
    "import net.imglib2.view.*;\n",
    "\n",
    "getKernelInstance().getRenderer().createRegistration(RandomAccessibleInterval.class)\n",
    "        .preferring(MIMEType.IMAGE_PNG)\n",
    "        .supporting(MIMEType.IMAGE_JPEG, MIMEType.IMAGE_GIF)\n",
    "        .register((rai, context) -> Image.renderImage(\n",
    "                ImageJFunctions.wrap(rai, rai.toString()).getBufferedImage(),\n",
    "                context));"
   ]
  },
  {
   "cell_type": "code",
   "execution_count": 4,
   "id": "3d38edc0",
   "metadata": {},
   "outputs": [
    {
     "ename": "EvalException",
     "evalue": "org/scijava/Named",
     "output_type": "error",
     "traceback": [
      "\u001b[1m\u001b[31m---------------------------------------------------------------------------\u001b[0m",
      "\u001b[1m\u001b[31mjava.lang.NoClassDefFoundError: org/scijava/Named\u001b[0m",
      "\u001b[1m\u001b[31m\tat java.base/java.lang.ClassLoader.defineClass1(Native Method)\u001b[0m",
      "\u001b[1m\u001b[31m\tat java.base/java.lang.ClassLoader.defineClass(ClassLoader.java:1023)\u001b[0m",
      "\u001b[1m\u001b[31m\tat java.base/java.security.SecureClassLoader.defineClass(SecureClassLoader.java:150)\u001b[0m",
      "\u001b[1m\u001b[31m\tat java.base/java.net.URLClassLoader.defineClass(URLClassLoader.java:524)\u001b[0m",
      "\u001b[1m\u001b[31m\tat java.base/java.net.URLClassLoader$1.run(URLClassLoader.java:427)\u001b[0m",
      "\u001b[1m\u001b[31m\tat java.base/java.net.URLClassLoader$1.run(URLClassLoader.java:421)\u001b[0m",
      "\u001b[1m\u001b[31m\tat java.base/java.security.AccessController.doPrivileged(AccessController.java:714)\u001b[0m",
      "\u001b[1m\u001b[31m\tat java.base/java.net.URLClassLoader.findClass(URLClassLoader.java:420)\u001b[0m",
      "\u001b[1m\u001b[31m\tat jdk.jshell/jdk.jshell.execution.DefaultLoaderDelegate$RemoteClassLoader.findClass(DefaultLoaderDelegate.java:158)\u001b[0m",
      "\u001b[1m\u001b[31m\tat java.base/java.lang.ClassLoader.loadClass(ClassLoader.java:592)\u001b[0m",
      "\u001b[1m\u001b[31m\tat java.base/java.lang.ClassLoader.loadClass(ClassLoader.java:525)\u001b[0m",
      "\u001b[1m\u001b[31m\tat java.base/java.lang.ClassLoader.defineClass1(Native Method)\u001b[0m",
      "\u001b[1m\u001b[31m\tat java.base/java.lang.ClassLoader.defineClass(ClassLoader.java:1023)\u001b[0m",
      "\u001b[1m\u001b[31m\tat java.base/java.security.SecureClassLoader.defineClass(SecureClassLoader.java:150)\u001b[0m",
      "\u001b[1m\u001b[31m\tat java.base/java.net.URLClassLoader.defineClass(URLClassLoader.java:524)\u001b[0m",
      "\u001b[1m\u001b[31m\tat java.base/java.net.URLClassLoader$1.run(URLClassLoader.java:427)\u001b[0m",
      "\u001b[1m\u001b[31m\tat java.base/java.net.URLClassLoader$1.run(URLClassLoader.java:421)\u001b[0m",
      "\u001b[1m\u001b[31m\tat java.base/java.security.AccessController.doPrivileged(AccessController.java:714)\u001b[0m",
      "\u001b[1m\u001b[31m\tat java.base/java.net.URLClassLoader.findClass(URLClassLoader.java:420)\u001b[0m",
      "\u001b[1m\u001b[31m\tat jdk.jshell/jdk.jshell.execution.DefaultLoaderDelegate$RemoteClassLoader.findClass(DefaultLoaderDelegate.java:158)\u001b[0m",
      "\u001b[1m\u001b[31m\tat java.base/java.lang.ClassLoader.loadClass(ClassLoader.java:592)\u001b[0m",
      "\u001b[1m\u001b[31m\tat java.base/java.lang.ClassLoader.loadClass(ClassLoader.java:525)\u001b[0m",
      "\u001b[1m\u001b[31m\tat net.imglib2.img.display.imagej.ImageJFunctions.wrap(ImageJFunctions.java:248)\u001b[0m",
      "\u001b[1m\u001b[31m\tat net.imglib2.img.display.imagej.ImageJFunctions.wrap(ImageJFunctions.java:261)\u001b[0m",
      "\u001b[1m\u001b[31m\tat .lambda$do_it$$0(#37:1)\u001b[0m",
      "\u001b[1m\u001b[31m\tat io.github.spencerpark.jupyter.kernel.display.Renderer.renderAs(Renderer.java:256)\u001b[0m",
      "\u001b[1m\u001b[31m\tat io.github.spencerpark.jupyter.kernel.display.Renderer.renderAs(Renderer.java:275)\u001b[0m",
      "\u001b[1m\u001b[31m\tat io.github.spencerpark.ijava.runtime.Display.display(Display.java:76)\u001b[0m",
      "\u001b[1m\u001b[31m\tat .(#40:1)\u001b[0m"
     ]
    }
   ],
   "source": [
    "var imp = IJ.openImage(\"https://mirror.imagej.net/ij/images/clown.jpg\");\n",
    "// for later use without the compiler losing its mind, we must provide type information\n",
    "// for the ImagePlus wrapper, so let's not use var here\n",
    "RandomAccessibleInterval<?> rai = ImagePlusImgs.from(imp);\n",
    "display(rai, \"image/gif\");\n",
    "//display(rai, \"image/jpeg\");\n",
    "//display(rai, \"image/png\");\n"
   ]
  },
  {
   "cell_type": "code",
   "execution_count": null,
   "id": "99df072b-e71d-450f-8d0f-6a51a1b63147",
   "metadata": {},
   "outputs": [],
   "source": []
  }
 ],
 "metadata": {
  "kernelspec": {
   "display_name": "Java",
   "language": "java",
   "name": "java"
  },
  "language_info": {
   "codemirror_mode": "java",
   "file_extension": ".jshell",
   "mimetype": "text/x-java-source",
   "name": "Java",
   "pygments_lexer": "java",
   "version": "22.0.1-internal-adhoc.conda.src"
  }
 },
 "nbformat": 4,
 "nbformat_minor": 5
}
