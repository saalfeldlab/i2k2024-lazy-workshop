{
 "cells": [
  {
   "cell_type": "code",
   "execution_count": 1,
   "id": "90efbcac-49b3-4216-a84c-ba79aea39e1c",
   "metadata": {},
   "outputs": [],
   "source": [
    "//| code-fold: true\n",
    "\n",
    "%mavenRepo scijava.public https://maven.scijava.org/content/groups/public\n",
    "%maven org.scijava:scijava-common:2.99.0\n",
    "%maven net.imglib2:imglib2-algorithm:0.17.1-SNAPSHOT\n",
    "%maven net.imglib2:imglib2:7.1.2\n",
    "%maven net.imglib2:imglib2-ij:2.0.3\n",
    "%maven sc.fiji:bigdataviewer-core:10.6.2\n",
    "%maven org.janelia.saalfeldlab:n5:3.3.0"
   ]
  },
  {
   "cell_type": "markdown",
   "id": "5e5ef75d-9300-4108-95d9-82eb1eb7fda8",
   "metadata": {},
   "source": [
    "## Procedurally generated image\n",
    "\n",
    "We define the Juliaset as a function in 2D real space using a [BiConsumer](https://cr.openjdk.org/~jlaskey/templates/docs/api/java.base/java/util/function/BiConsumer.html) lambda function. The BiConsumer receives two parameters, the first one (x) is the 2D coordinate, the second one (fx) is the target of the function whose value will be set in place, here we use an `UnsignedByteType`. We also have to provide a [Supplier](https://cr.openjdk.org/~jlaskey/templates/docs/api/java.base/java/util/function/Supplier.html) for instances of the target such that multiple threads can each create their own.\n",
    "\n",
    "The result is a function over continuous coordinates that is unbounded."
   ]
  },
  {
   "cell_type": "code",
   "execution_count": 2,
   "id": "799d9521-65bd-4a7b-ba16-b6f80eb98fbe",
   "metadata": {},
   "outputs": [],
   "source": [
    "import bdv.util.*;\n",
    "import bdv.util.volatiles.*;\n",
    "import bdv.viewer.*;\n",
    "import net.imglib2.*;\n",
    "import net.imglib2.algorithm.gauss3.*;\n",
    "import net.imglib2.cache.img.*;\n",
    "import net.imglib2.loops.*;\n",
    "import net.imglib2.parallel.*;\n",
    "import net.imglib2.position.*;\n",
    "import net.imglib2.realtransform.*;\n",
    "import net.imglib2.type.numeric.*;\n",
    "import net.imglib2.type.numeric.integer.*;\n",
    "import net.imglib2.util.*;\n",
    "import static net.imglib2.view.fluent.RandomAccessibleIntervalView.Extension.*;\n",
    "\n",
    "var juliaset = new FunctionRealRandomAccessible<UnsignedByteType>(\n",
    "    2,\n",
    "    (x, fx) -> {\n",
    "      int i = 0;\n",
    "      double v = 0;\n",
    "      double c = x.getDoublePosition(0);\n",
    "      double d = x.getDoublePosition(1);\n",
    "      for (; i < 255 && v < 4096; ++i) {\n",
    "        final double e = c * c - d * d;\n",
    "        d = 2 * c * d;\n",
    "        c = e + 0.3;\n",
    "        d += 0.6;\n",
    "        v = Math.sqrt(c * c + d * d);\n",
    "        ++i;\n",
    "      }\n",
    "      fx.set(i);\n",
    "    },\n",
    "    UnsignedByteType::new);\n",
    "\n",
    "BdvSource bdv = BdvFunctions.show(\n",
    "    juliaset,\n",
    "    Intervals.createMinMax(-1, -1, 1, 1),\n",
    "    \"juliaset\",\n",
    "    Bdv.options().is2D());\n",
    "bdv.setDisplayRange(0, 127);"
   ]
  },
  {
   "cell_type": "markdown",
   "id": "4f80ce02-ac1a-4f81-b63a-6e68604b8ce0",
   "metadata": {},
   "source": [
    "## Caching results of expensive operations\n",
    "\n",
    "Trying to show benefits of caching with very contrived example...\n",
    "\n",
    "Use the `juliaset` from above. To have something that can be put in a cache, we rasterize (virtually)"
   ]
  },
  {
   "cell_type": "code",
   "execution_count": 3,
   "id": "26978070-cdeb-4745-bbdb-ae62b4db7d16",
   "metadata": {},
   "outputs": [],
   "source": [
    "AffineTransform2D transform = new AffineTransform2D();\n",
    "transform.set(\n",
    "    4000, 0, 8000,\n",
    "    0, 4000, 8000);\n",
    "RandomAccessible<UnsignedByteType> affine = RealViews.affine(juliaset, transform);\n",
    "\n",
    "final RandomAccessibleInterval<UnsignedByteType> transformed = affine\n",
    "    .view()\n",
    "    .interval(Intervals.createMinSize(0, 0, 16000, 16000))\n",
    "    .convert(UnsignedByteType::new, (i, o) -> o.set(Math.min(i.get() * 3, 255)));\n",
    "\n",
    "BdvSource bdv = BdvFunctions.show(\n",
    "    transformed,\n",
    "    \"transformed and rasterized\",\n",
    "    Bdv.options().is2D());\n",
    "bdv.getBdvHandle().getViewerPanel().setDisplayMode(DisplayMode.SINGLE);"
   ]
  },
  {
   "cell_type": "markdown",
   "id": "ba00aa41-b6ec-4966-951c-6d516f53b049",
   "metadata": {},
   "source": [
    "It is relatively expensive (not really, but use your imagination) to compute the value of a pixel in `transformed`.\n",
    "And the value is re-computed everytime it is accessed.\n",
    "\n",
    "To avoid that, we can wrap that into a `CachedCellImg`.\n",
    "Pixel values are computed once and cached for subsequent accesses.\n",
    "<br>\n",
    "(The `CachedCellImg` pre-computes whole blocks of data when a single pixel from the block is accessed. This is often what you want, but you should be aware of it...)"
   ]
  },
  {
   "cell_type": "code",
   "execution_count": 4,
   "id": "0d931975-ad99-4162-98fd-e473855ec586",
   "metadata": {},
   "outputs": [
    {
     "data": {
      "text/plain": [
       "bdv.util.BdvStackSource@1bb6ec18"
      ]
     },
     "execution_count": 4,
     "metadata": {},
     "output_type": "execute_result"
    }
   ],
   "source": [
    "final RandomAccessibleInterval<UnsignedByteType> cached = new ReadOnlyCachedCellImgFactory().create(\n",
    "    transformed.dimensionsAsLongArray(),\n",
    "    new UnsignedByteType(),\n",
    "    cell -> LoopBuilder.setImages(transformed.view().interval(cell), cell).forEachPixel((i, o) -> o.set(i)),\n",
    "    ReadOnlyCachedCellImgOptions.options().cellDimensions(512));\n",
    "\n",
    "BdvFunctions.show(\n",
    "    VolatileViews.wrapAsVolatile(cached),\n",
    "    \"cached\",\n",
    "    Bdv.options().addTo(bdv));"
   ]
  },
  {
   "cell_type": "markdown",
   "id": "3c01b811-35bb-42a3-83df-3ae63efb0d61",
   "metadata": {},
   "source": [
    "We define two additional `CachedCellImg`s: one that generates data by smoothing the procedural image, one that generates data by smoothing the cached image."
   ]
  },
  {
   "cell_type": "code",
   "execution_count": 5,
   "id": "b2bb68a0-a8e6-41c8-8ea3-096836a542cc",
   "metadata": {},
   "outputs": [],
   "source": [
    "final RandomAccessibleInterval<UnsignedByteType> convolved = new ReadOnlyCachedCellImgFactory().create(\n",
    "    transformed.dimensionsAsLongArray(),\n",
    "    new UnsignedByteType(),\n",
    "    cell -> Parallelization.runSingleThreaded(() -> Gauss3.gauss(new double[]{8, 8}, transformed, cell)),\n",
    "    ReadOnlyCachedCellImgOptions.options().cellDimensions(512));\n",
    "\n",
    "BdvSource source = BdvFunctions.show(\n",
    "    VolatileViews.wrapAsVolatile(convolved),\n",
    "    \"convolved\",\n",
    "    Bdv.options().addTo(bdv));\n",
    "source.setColor(new ARGBType(0xff00ff));\n",
    "\n",
    "final RandomAccessibleInterval<UnsignedByteType> cachedConvolved = new ReadOnlyCachedCellImgFactory().create(\n",
    "    transformed.dimensionsAsLongArray(),\n",
    "    new UnsignedByteType(),\n",
    "    cell -> Parallelization.runSingleThreaded(() -> Gauss3.gauss(new double[]{8, 8}, cached.view().extend(mirrorDouble()), cell)),\n",
    "    ReadOnlyCachedCellImgOptions.options().cellDimensions(512));\n",
    "\n",
    "BdvSource source = BdvFunctions.show(\n",
    "    VolatileViews.wrapAsVolatile(cachedConvolved),\n",
    "    \"cached convolved\",\n",
    "    Bdv.options().addTo(bdv));\n",
    "source.setColor(new ARGBType(0x00ff00));"
   ]
  },
  {
   "cell_type": "code",
   "execution_count": null,
   "id": "3f5a3758-4f3d-42a3-9d35-22683874b795",
   "metadata": {},
   "outputs": [],
   "source": []
  }
 ],
 "metadata": {
  "kernelspec": {
   "display_name": "Java",
   "language": "java",
   "name": "java"
  },
  "language_info": {
   "codemirror_mode": "java",
   "file_extension": ".jshell",
   "mimetype": "text/x-java-source",
   "name": "Java",
   "pygments_lexer": "java",
   "version": "22.0.1-internal-adhoc.conda.src"
  }
 },
 "nbformat": 4,
 "nbformat_minor": 5
}
